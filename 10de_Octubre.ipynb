{
  "nbformat": 4,
  "nbformat_minor": 0,
  "metadata": {
    "colab": {
      "provenance": [],
      "authorship_tag": "ABX9TyN3TAU4YQA2A7vHsNCf8ixI",
      "include_colab_link": true
    },
    "kernelspec": {
      "name": "python3",
      "display_name": "Python 3"
    },
    "language_info": {
      "name": "python"
    }
  },
  "cells": [
    {
      "cell_type": "markdown",
      "metadata": {
        "id": "view-in-github",
        "colab_type": "text"
      },
      "source": [
        "<a href=\"https://colab.research.google.com/github/Elizabeth260/Estructura-de-datos-y-organizacion-de-datos-/blob/main/10de_Octubre.ipynb\" target=\"_parent\"><img src=\"https://colab.research.google.com/assets/colab-badge.svg\" alt=\"Open In Colab\"/></a>"
      ]
    },
    {
      "cell_type": "code",
      "execution_count": 3,
      "metadata": {
        "colab": {
          "base_uri": "https://localhost:8080/"
        },
        "id": "negJXCNubH8d",
        "outputId": "e7b0fd80-17a7-4d09-d7c0-8b2ee4e93f4d"
      },
      "outputs": [
        {
          "output_type": "stream",
          "name": "stdout",
          "text": [
            "Frutas\n",
            "manzanas\n",
            "duraznos\n",
            "Peras\n",
            "cerezas\n",
            " \n",
            "duraznos\n",
            "manzanas\n",
            "Peras\n",
            "Frutas\n",
            "cerezas\n",
            " \n",
            "duraznos\n",
            "Peras\n",
            "manzanas\n",
            "cerezas\n",
            "Frutas\n"
          ]
        }
      ],
      "source": [
        "class Node:\n",
        "\tdef __init__(self,data):\n",
        "\t\tself.left = None\n",
        "\t\tself.right = None\n",
        "\t\tself.data = data\n",
        "\n",
        "\tdef preorder(self,node):\n",
        "\t\tif node:\n",
        "\t\t\tprint(node.data)\n",
        "\t\t\tself.preorder(node.left)\n",
        "\t\t\tself.preorder(node.right)\n",
        "\n",
        "\tdef inorder(self,node):\n",
        "\t\tif node:\n",
        "\t\t\tself.inorder(node.left)\n",
        "\t\t\tprint(node.data)\n",
        "\t\t\tself.inorder(node.right)\n",
        "\n",
        "\tdef postorder(self,node):\n",
        "\t\tif node:\n",
        "\t\t\tself.postorder(node.left)\n",
        "\t\t\tself.postorder(node.right)\n",
        "\t\t\tprint(node.data)\n",
        "\n",
        "root = Node(\"Frutas\")\n",
        "\n",
        "root.left = Node(\"manzanas\")\n",
        "root.right = Node(\"cerezas\")\n",
        "root.left.left = Node(\"duraznos\")\n",
        "root.left.right = Node(\"Peras\")\n",
        "root.preorder(root)\n",
        "print(\" \")\n",
        "root.inorder(root)\n",
        "print(\" \")\n",
        "root.postorder(root)"
      ]
    }
  ]
}