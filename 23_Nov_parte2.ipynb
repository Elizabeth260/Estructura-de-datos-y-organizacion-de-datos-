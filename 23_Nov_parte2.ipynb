{
  "nbformat": 4,
  "nbformat_minor": 0,
  "metadata": {
    "colab": {
      "provenance": [],
      "authorship_tag": "ABX9TyPfHoedx1tzsCfRjENc+r/B",
      "include_colab_link": true
    },
    "kernelspec": {
      "name": "python3",
      "display_name": "Python 3"
    },
    "language_info": {
      "name": "python"
    }
  },
  "cells": [
    {
      "cell_type": "markdown",
      "metadata": {
        "id": "view-in-github",
        "colab_type": "text"
      },
      "source": [
        "<a href=\"https://colab.research.google.com/github/Elizabeth260/Estructura-de-datos-y-organizacion-de-datos-/blob/main/23_Nov_parte2.ipynb\" target=\"_parent\"><img src=\"https://colab.research.google.com/assets/colab-badge.svg\" alt=\"Open In Colab\"/></a>"
      ]
    },
    {
      "cell_type": "code",
      "execution_count": 1,
      "metadata": {
        "colab": {
          "base_uri": "https://localhost:8080/"
        },
        "id": "RzEBNnAEmvQg",
        "outputId": "40ea5055-7bcf-489f-d063-0fa075af7e6b"
      },
      "outputs": [
        {
          "output_type": "execute_result",
          "data": {
            "text/plain": [
              "True"
            ]
          },
          "metadata": {},
          "execution_count": 1
        }
      ],
      "source": [
        "\"apple\" in [\"orange\", \"apple\", \"grape\"]\n",
        "True\n",
        "\n",
        "\"t\" in \"Pharos.sh\"\n",
        "True\n",
        "\n",
        "\"q\" in \"Pharos.sh\"\n",
        "False\n",
        "\n",
        "\"q\" not in \"Pharos.sh\"\n",
        "True"
      ]
    },
    {
      "cell_type": "code",
      "source": [
        "def LinearSearch(lys, element):\n",
        "  for i in range (len(lys)):\n",
        "    if lys[i] == element:\n",
        "       return i\n",
        "  return -1\n",
        "\n",
        "print(LinearSearch([1,2,3,4,5,2,1], 2))"
      ],
      "metadata": {
        "colab": {
          "base_uri": "https://localhost:8080/"
        },
        "id": "OJqnR4IKnDT7",
        "outputId": "aa35ca61-9211-4e59-f81d-f717bcc4f1ac"
      },
      "execution_count": 10,
      "outputs": [
        {
          "output_type": "stream",
          "name": "stdout",
          "text": [
            "1\n"
          ]
        }
      ]
    },
    {
      "cell_type": "code",
      "source": [
        "def BinarySearch(lys, val):\n",
        "   first = 0\n",
        "   last = len(lys)-1\n",
        "   index = -1\n",
        "   while (first <= last) and (index == -1):\n",
        "     mid = (first+last)//2\n",
        "     if lys[mid] == val:\n",
        "       index = mid\n",
        "     else:\n",
        "       if val<lys[mid]:\n",
        "        last = mid -1\n",
        "       else:\n",
        "        first = mid +1\n",
        "        return index\n",
        "\n",
        "print(BinarySearch([4,4,4,4,4], 4))"
      ],
      "metadata": {
        "colab": {
          "base_uri": "https://localhost:8080/"
        },
        "id": "TOV0qV7fno3_",
        "outputId": "7ef77f15-18f6-4fcb-864c-4bbfb08e0c58"
      },
      "execution_count": 33,
      "outputs": [
        {
          "output_type": "stream",
          "name": "stdout",
          "text": [
            "None\n"
          ]
        }
      ]
    },
    {
      "cell_type": "code",
      "source": [
        "import math\n",
        "\n",
        "def JumpSearch (lys, val):\n",
        "   length = len(lys)\n",
        "   jump = int(math.sqrt(length))\n",
        "   left, right = 0, 0\n",
        "   while left < length and lys[left] <= val:\n",
        "     right = min(length - 1, left + jump)\n",
        "     if lys[left] <= val and lys[right] >= val:\n",
        "       break\n",
        "     left += jump;\n",
        "     if left >= length or lys[left] > val:\n",
        "       return -1\n",
        "     right = min(length - 1, right)\n",
        "     i = left\n",
        "     while i <= right and lys[i] <= val:\n",
        "       if lys[i] == val:\n",
        "         return i\n",
        "       i += 1\n",
        "       return -1\n",
        "\n",
        "print(JumpSearch([1,2,3,4,5,6,7,8,9], 5))"
      ],
      "metadata": {
        "colab": {
          "base_uri": "https://localhost:8080/"
        },
        "id": "nUWaRT5PrKYi",
        "outputId": "0028ddc4-e807-4b22-9e28-bc6b4739cd0e"
      },
      "execution_count": 2,
      "outputs": [
        {
          "output_type": "stream",
          "name": "stdout",
          "text": [
            "-1\n"
          ]
        }
      ]
    },
    {
      "cell_type": "code",
      "source": [
        "\n",
        "def FibonacciSearch(lys, val):\n",
        "   fibM_minus_2 = 0\n",
        "   fibM_minus_1 = 1\n",
        "   fibM = fibM_minus_1 + fibM_minus_2\n",
        "   while (fibM < len(lys)):\n",
        "     fibM_minus_2 = fibM_minus_1\n",
        "     fibM_minus_1 = fibM\n",
        "     fibM = fibM_minus_1 + fibM_minus_2\n",
        "     index = -1;\n",
        "     while (fibM > 1):\n",
        "       i = min(index + fibM_minus_2, (len(lys)-1))\n",
        "       if (lys[i] < val):\n",
        "         fibM = fibM_minus_1\n",
        "         fibM_minus_1 = fibM_minus_2\n",
        "         fibM_minus_2 = fibM - fibM_minus_1\n",
        "         index = i\n",
        "       elif (lys[i] > val):\n",
        "         fibM = fibM_minus_2\n",
        "         fibM_minus_1 = fibM_minus_1 - fibM_minus_2\n",
        "         fibM_minus_2 = fibM - fibM_minus_1\n",
        "       else :\n",
        "         return i\n",
        "     if(fibM_minus_1 and index < (len(lys)-1) and lys[index+1] == val):\n",
        "         return index+1;\n",
        "     return -1\n",
        "\n",
        "print(FibonacciSearch([1,2,3,4,5,6,7,8,9,10,11], 6))"
      ],
      "metadata": {
        "colab": {
          "base_uri": "https://localhost:8080/"
        },
        "id": "7YqxXIMzK7aF",
        "outputId": "1711fe73-cc21-48b5-83dd-01f42f07ed11"
      },
      "execution_count": 12,
      "outputs": [
        {
          "output_type": "stream",
          "name": "stdout",
          "text": [
            "-1\n"
          ]
        }
      ]
    },
    {
      "cell_type": "code",
      "source": [
        "def ExponentialSearch(lys, val):\n",
        "    if lys [0] == val:\n",
        "        return 0\n",
        "    index = 1\n",
        "    while index < len(lys) and lys[index] <= val:\n",
        "        index = index * 2\n",
        "    return BinarySearch (arr[:min(index, len(lys)), val])\n",
        "\n",
        "    BinarySearch([1,2,3,4], 3)"
      ],
      "metadata": {
        "id": "GTbBfBdrUJp_"
      },
      "execution_count": 43,
      "outputs": []
    },
    {
      "cell_type": "code",
      "source": [
        "def InterpolationSearch(lys, val):\n",
        "   low = 0\n",
        "   high = (len(lys) - 1)\n",
        "   while low <= high and val >= lys[low] and val <= lys[high]:\n",
        "     index = low + int(((float(high - low) / ( lys[high] - lys[low])) * ( val -lys[low])))\n",
        "     if lys[index] == val:\n",
        "       return index\n",
        "     if lys[index] < val:\n",
        "       low = index + 1;\n",
        "     else:\n",
        "       high = index - 1;\n",
        "   return -1\n",
        "print(InterpolationSearch([1,2,3,4,5,6,7,8], 6))"
      ],
      "metadata": {
        "colab": {
          "base_uri": "https://localhost:8080/"
        },
        "id": "LnTUu8mJbI9U",
        "outputId": "cf818fd9-96d4-4c16-9367-b25f8593d1f0"
      },
      "execution_count": 41,
      "outputs": [
        {
          "output_type": "stream",
          "name": "stdout",
          "text": [
            "5\n"
          ]
        }
      ]
    }
  ]
}