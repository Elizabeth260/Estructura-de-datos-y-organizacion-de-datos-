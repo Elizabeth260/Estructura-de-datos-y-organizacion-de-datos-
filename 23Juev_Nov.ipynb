{
  "nbformat": 4,
  "nbformat_minor": 0,
  "metadata": {
    "colab": {
      "provenance": [],
      "authorship_tag": "ABX9TyP/UzWsjA4znvjAPnmiUIvV",
      "include_colab_link": true
    },
    "kernelspec": {
      "name": "python3",
      "display_name": "Python 3"
    },
    "language_info": {
      "name": "python"
    }
  },
  "cells": [
    {
      "cell_type": "markdown",
      "metadata": {
        "id": "view-in-github",
        "colab_type": "text"
      },
      "source": [
        "<a href=\"https://colab.research.google.com/github/Elizabeth260/Estructura-de-datos-y-organizacion-de-datos-/blob/main/23Juev_Nov.ipynb\" target=\"_parent\"><img src=\"https://colab.research.google.com/assets/colab-badge.svg\" alt=\"Open In Colab\"/></a>"
      ]
    },
    {
      "cell_type": "code",
      "execution_count": 1,
      "metadata": {
        "colab": {
          "base_uri": "https://localhost:8080/"
        },
        "id": "2cPNGew1AH2u",
        "outputId": "a18350b5-6a10-40b7-8c94-0fcfc0018bda"
      },
      "outputs": [
        {
          "output_type": "stream",
          "name": "stdout",
          "text": [
            "[1, 2, 4, 5, 8]\n"
          ]
        }
      ],
      "source": [
        "def bubbleSort(nums):\n",
        "\t# Establecemos la variable intercambio en True para entrar en el bucle al menos una vez\n",
        "\tintercambio = True\n",
        "\twhile intercambio:\n",
        "\t\tintercambio = False\n",
        "\t\tfor i in range (len(nums) - 1):\n",
        "\t\t\tif nums [i] > nums [i + 1]:\n",
        "\t\t\t\tnums [i], nums[i + 1] = nums [i + 1], nums [i]\n",
        "\t\t\t\tintercambio = True\n",
        "\n",
        "#Comprobamos el funcionamiento\n",
        "listaNumerosAleatorios = [5,2,1,8,4]\n",
        "bubbleSort(listaNumerosAleatorios)\n",
        "print(listaNumerosAleatorios)"
      ]
    },
    {
      "cell_type": "code",
      "source": [
        "def selectionSort(nums):\n",
        "    # El valor de i corresponde al numero de datos que se ordenaron\n",
        "    for i in range(len(nums)):\n",
        "        lowest_value_index = i\n",
        "        for j in range(i + 1, len(nums)):\n",
        "            if nums [j] < nums[lowest_value_index]:\n",
        "                lowest_value_index = j\n",
        "    # Intercambia el valor de los elementos sin ordenar mas bajo\n",
        "    # con el primero sin ordenar\n",
        "    nums[i], nums[lowest_value_index] = nums[lowest_value_index], nums[i]\n",
        "\n",
        "#comprobamos el funcionamiento\n",
        "listaNumerosAleatorios = [5, 2, 1, 8, 4]\n",
        "print(\"lista sin ordenar: \" + str(listaNumerosAleatorios))\n",
        "selectionSort(listaNumerosAleatorios)\n",
        "print(\"lista ordenada: \" + str(listaNumerosAleatorios))"
      ],
      "metadata": {
        "colab": {
          "base_uri": "https://localhost:8080/"
        },
        "id": "h4NCE7jJAdPd",
        "outputId": "40f19ffd-11df-435e-a744-12009ca1de12"
      },
      "execution_count": 2,
      "outputs": [
        {
          "output_type": "stream",
          "name": "stdout",
          "text": [
            "lista sin ordenar: [5, 2, 1, 8, 4]\n",
            "lista ordenada: [5, 2, 1, 8, 4]\n"
          ]
        }
      ]
    },
    {
      "cell_type": "code",
      "source": [
        "def insertionSort(nums):\n",
        "    # Entendemos que el primer elemento sin ordenar es el más pequeño\n",
        "    # asi que comenzamos con el segundo\n",
        "    for i in range(1, len(nums)):\n",
        "        item_to_insert = nums[i]\n",
        "        #Guardamos en j el indice del elemento anterior\n",
        "        j = i - 1\n",
        "        #Movemos todos los elementos de la lista hacia delante si son\n",
        "        # mayores que el elemento a insertar\n",
        "        while j >= 0 and nums[j] > item_to_insert:\n",
        "            nums[j + 1] = nums[j]\n",
        "            j -= 1\n",
        "        # Insertamos el elemento\n",
        "        nums[j + 1] = item_to_insert\n",
        "\n",
        "#Comprobamos el funcionamiento\n",
        "listaNumerosAleatorios = [5, 2, 1, 8, 4]\n",
        "print(\"lista sin ordenar: \" + str(listaNumerosAleatorios))\n",
        "insertionSort(listaNumerosAleatorios)\n",
        "print(\"lista ordenada: \" + str(listaNumerosAleatorios))"
      ],
      "metadata": {
        "colab": {
          "base_uri": "https://localhost:8080/"
        },
        "id": "S_Q9sUJhAw8y",
        "outputId": "1aede633-c13c-4c3d-bf3d-f02ef2256018"
      },
      "execution_count": 3,
      "outputs": [
        {
          "output_type": "stream",
          "name": "stdout",
          "text": [
            "lista sin ordenar: [5, 2, 1, 8, 4]\n",
            "lista ordenada: [1, 2, 4, 5, 8]\n"
          ]
        }
      ]
    }
  ]
}