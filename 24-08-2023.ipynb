{
  "cells": [
    {
      "cell_type": "markdown",
      "metadata": {
        "id": "view-in-github",
        "colab_type": "text"
      },
      "source": [
        "<a href=\"https://colab.research.google.com/github/Elizabeth260/Estructura-de-datos-y-organizacion-de-datos-/blob/main/Copia_de_Te_damos_la_bienvenida_a_Colaboratory.ipynb\" target=\"_parent\"><img src=\"https://colab.research.google.com/assets/colab-badge.svg\" alt=\"Open In Colab\"/></a>"
      ]
    },
    {
      "cell_type": "markdown",
      "source": [],
      "metadata": {
        "id": "aUl2IJGhXWDw"
      }
    },
    {
      "cell_type": "code",
      "source": [
        "factura = [\"pan\",\"huevos\",100, 1234]\n",
        "print(factura[-3])"
      ],
      "metadata": {
        "id": "mTJMVkYPQbzy",
        "outputId": "3d944097-d5cf-4f80-881c-467d27840aac",
        "colab": {
          "base_uri": "https://localhost:8080/"
        }
      },
      "execution_count": null,
      "outputs": [
        {
          "output_type": "stream",
          "name": "stdout",
          "text": [
            "huevos\n"
          ]
        }
      ]
    },
    {
      "cell_type": "code",
      "source": [
        "factura = [\"pan\",\"huevos\",100, 1234]\n",
        "print(factura[-0])"
      ],
      "metadata": {
        "id": "f40XNQRTQb13",
        "outputId": "9f1f2629-a120-4623-8575-eb30f3b3d0ba",
        "colab": {
          "base_uri": "https://localhost:8080/"
        }
      },
      "execution_count": null,
      "outputs": [
        {
          "output_type": "stream",
          "name": "stdout",
          "text": [
            "pan\n"
          ]
        }
      ]
    },
    {
      "cell_type": "code",
      "source": [
        "factura[-len(factura)]\n"
      ],
      "metadata": {
        "id": "-DO4ls8CTfYo",
        "outputId": "617567de-0f48-45cb-cd2a-65f49e20cea9",
        "colab": {
          "base_uri": "https://localhost:8080/",
          "height": 35
        }
      },
      "execution_count": null,
      "outputs": [
        {
          "output_type": "execute_result",
          "data": {
            "text/plain": [
              "'pan'"
            ],
            "application/vnd.google.colaboratory.intrinsic+json": {
              "type": "string"
            }
          },
          "metadata": {},
          "execution_count": 12
        }
      ]
    },
    {
      "cell_type": "code",
      "source": [
        "factura [-1]"
      ],
      "metadata": {
        "id": "SdDugl0TUHDk",
        "outputId": "6dfceaab-0f00-4c89-dbc1-9b834046112e",
        "colab": {
          "base_uri": "https://localhost:8080/"
        }
      },
      "execution_count": null,
      "outputs": [
        {
          "output_type": "execute_result",
          "data": {
            "text/plain": [
              "1234"
            ]
          },
          "metadata": {},
          "execution_count": 13
        }
      ]
    },
    {
      "cell_type": "code",
      "source": [
        "factura[1]=\"carne\"\n",
        "factura"
      ],
      "metadata": {
        "id": "szHYL1fwUWtb",
        "outputId": "c3cdc597-99d8-4cfa-8792-4923129617eb",
        "colab": {
          "base_uri": "https://localhost:8080/"
        }
      },
      "execution_count": null,
      "outputs": [
        {
          "output_type": "execute_result",
          "data": {
            "text/plain": [
              "['pan', 'carne', 100, 'carne']"
            ]
          },
          "metadata": {},
          "execution_count": 16
        }
      ]
    },
    {
      "cell_type": "code",
      "source": [
        "versiones_plone = [2.5,3.6,4,5]\n",
        "print(versiones_plone)\n",
        "versiones_plone.append(6)\n",
        "print(versiones_plone)\n"
      ],
      "metadata": {
        "id": "q8wBYNx9UzTu",
        "outputId": "bf9d855b-092a-4628-f139-ea0658e76eaf",
        "colab": {
          "base_uri": "https://localhost:8080/"
        }
      },
      "execution_count": null,
      "outputs": [
        {
          "output_type": "stream",
          "name": "stdout",
          "text": [
            "[2.5, 3.6, 4, 5]\n",
            "[2.5, 3.6, 4, 5, 6]\n"
          ]
        }
      ]
    },
    {
      "cell_type": "code",
      "source": [
        "versiones_plone = ([3,4,5])"
      ],
      "metadata": {
        "id": "wIOwXixnW6BC"
      },
      "execution_count": null,
      "outputs": []
    },
    {
      "cell_type": "code",
      "source": [
        "versiones_plone = [2.5, 3.6, 4, 5, 6]\n",
        "print(\"6 - >\"), versiones_plone.count(6)\n",
        "print(\"5 - >\"), versiones_plone.count(5)\n",
        "print(\"2.5 - >\"), versiones_plone.count(2.5)"
      ],
      "metadata": {
        "id": "ZKyJ9Z7gYTTX",
        "outputId": "5f2099a5-05ba-4b55-d317-50e8f35cea28",
        "colab": {
          "base_uri": "https://localhost:8080/"
        }
      },
      "execution_count": null,
      "outputs": [
        {
          "output_type": "stream",
          "name": "stdout",
          "text": [
            "6 - >\n",
            "5 - >\n",
            "2.5 - >\n"
          ]
        },
        {
          "output_type": "execute_result",
          "data": {
            "text/plain": [
              "(None, 1)"
            ]
          },
          "metadata": {},
          "execution_count": 31
        }
      ]
    },
    {
      "cell_type": "code",
      "source": [
        "versiones_plone = [2.1,2.5,3.6]\n",
        "print(versiones_plone)\n",
        "versiones_plone.extend([4])\n",
        "print(versiones_plone)\n",
        "versiones_plone.extend (range(5,7))\n",
        "print(versiones_plone)"
      ],
      "metadata": {
        "id": "kOSCEfCBYyFR",
        "outputId": "ff7b1891-f4c5-4e87-8674-46d147dab6a2",
        "colab": {
          "base_uri": "https://localhost:8080/"
        }
      },
      "execution_count": null,
      "outputs": [
        {
          "output_type": "stream",
          "name": "stdout",
          "text": [
            "[2.1, 2.5, 3.6]\n",
            "[2.1, 2.5, 3.6, 4]\n",
            "[2.1, 2.5, 3.6, 4, 5, 6]\n"
          ]
        }
      ]
    },
    {
      "cell_type": "code",
      "source": [
        "versiones_plone = [2.1,2.5,3.6]\n",
        "print(versiones_plone)\n",
        "versiones_plone.extend([4])\n",
        "print(versiones_plone)\n",
        "versiones_plone.extend (range(5,15))\n",
        "print(versiones_plone)"
      ],
      "metadata": {
        "id": "EySq864BajhY",
        "outputId": "337f70fd-929b-4a78-908a-1cca5a684ed2",
        "colab": {
          "base_uri": "https://localhost:8080/"
        }
      },
      "execution_count": null,
      "outputs": [
        {
          "output_type": "stream",
          "name": "stdout",
          "text": [
            "[2.1, 2.5, 3.6]\n",
            "[2.1, 2.5, 3.6, 4]\n",
            "[2.1, 2.5, 3.6, 4, 5, 6, 7, 8, 9, 10, 11, 12, 13, 14]\n"
          ]
        }
      ]
    }
  ],
  "metadata": {
    "colab": {
      "toc_visible": true,
      "provenance": [],
      "include_colab_link": true
    },
    "kernelspec": {
      "display_name": "Python 3",
      "name": "python3"
    }
  },
  "nbformat": 4,
  "nbformat_minor": 0
}
