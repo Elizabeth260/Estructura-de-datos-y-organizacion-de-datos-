{
  "nbformat": 4,
  "nbformat_minor": 0,
  "metadata": {
    "colab": {
      "provenance": [],
      "authorship_tag": "ABX9TyO7LhWVRzs5hSi9IZZH5+C4",
      "include_colab_link": true
    },
    "kernelspec": {
      "name": "python3",
      "display_name": "Python 3"
    },
    "language_info": {
      "name": "python"
    }
  },
  "cells": [
    {
      "cell_type": "markdown",
      "metadata": {
        "id": "view-in-github",
        "colab_type": "text"
      },
      "source": [
        "<a href=\"https://colab.research.google.com/github/Elizabeth260/Estructura-de-datos-y-organizacion-de-datos-/blob/main/Ti_Prac2_Promedio.ipynb\" target=\"_parent\"><img src=\"https://colab.research.google.com/assets/colab-badge.svg\" alt=\"Open In Colab\"/></a>"
      ]
    },
    {
      "cell_type": "markdown",
      "source": [
        "Instituto Tecnologico de San Juan del rio,\n",
        "Ingeneria en Tecnologias de la informacion y comunicaciones\n",
        "Programacion Orientada a Objetos\n",
        "Autor: Monica Elizabeth Olvera Guerrero"
      ],
      "metadata": {
        "id": "OJGIp6NaH8kV"
      }
    },
    {
      "cell_type": "code",
      "source": [
        "N = int(input(\"Cantidad de Alumnos del grupo: \"))\n",
        "n = 0\n",
        "promedios=[]\n",
        "while n<N:\n",
        "    n = n + 1\n",
        "    print(\"\\n--- CALIFICACIÓN PROMEDIO ---\")\n",
        "    print(\"\\n--- Alumno\", n, \"---\" )\n",
        "    calif1 = int(input(\"Ingrese Calificación 1: \"))\n",
        "    calif2 = int(input(\"Ingrese Calificación 2: \"))\n",
        "    calif3 = int(input(\"Ingrese Calificación 3: \"))\n",
        "    Pr = (calif1+calif2+calif3)/3\n",
        "    promedios.append(Pr)\n",
        "    if Pr >= 70 and Pr <= 100:\n",
        "        print(\"La calificación promedio es\", Pr, \"¡APROBATORIA! (:\")\n",
        "    if Pr >= 0 and Pr < 70:\n",
        "        print(\"La calificación promedio es\", Pr, \"¡REPROBATORIA! ):\")\n",
        "promedio_grupal = sum(promedios) / N\n",
        "print(\"\\n--- PROMEDIO DEL GRUPO:\", promedio_grupal)78"
      ],
      "metadata": {
        "colab": {
          "base_uri": "https://localhost:8080/"
        },
        "id": "DsKWhTBzIWA4",
        "outputId": "693fac39-6a60-4698-8f6c-91e689968c26"
      },
      "execution_count": 3,
      "outputs": [
        {
          "output_type": "stream",
          "name": "stdout",
          "text": [
            "Cantidad de Alumnos del grupo: 2\n",
            "\n",
            "--- CALIFICACIÓN PROMEDIO ---\n",
            "\n",
            "--- Alumno 1 ---\n",
            "Ingrese Calificación 1: 70\n",
            "Ingrese Calificación 2: 07\n",
            "Ingrese Calificación 3: 90\n",
            "La calificación promedio es 55.666666666666664 ¡REPROBATORIA! ):\n",
            "\n",
            "--- CALIFICACIÓN PROMEDIO ---\n",
            "\n",
            "--- Alumno 2 ---\n",
            "Ingrese Calificación 1: 90\n",
            "Ingrese Calificación 2: 0\n",
            "Ingrese Calificación 3: 98\n",
            "La calificación promedio es 62.666666666666664 ¡REPROBATORIA! ):\n",
            "\n",
            "--- PROMEDIO DEL GRUPO: 59.166666666666664\n"
          ]
        }
      ]
    },
    {
      "cell_type": "markdown",
      "source": [
        "Instituto Tecnologico de San Juan del rio\n",
        "Ingenería en Tecnologias de la información y comunicaciones\n",
        "Programación Orientada a Objetos\n",
        "Practica 2."
      ],
      "metadata": {
        "id": "v2eCd1TTH9wI"
      }
    },
    {
      "cell_type": "code",
      "source": [
        "#Instituto Tecnologico de San Juan del Rio\n",
        "#Ingeneria de tecnologias de la información y comunicaciones\n",
        "#Autor: Monica Elizabeth Olvera Guerrero\n",
        "\n",
        "#--------------ENTRADA /LECTRURA--------------#\n",
        "calif1 = 0.0\n",
        "calif2 = 0.0\n",
        "calif3 = 0.0\n",
        "prom = 0.0\n",
        "\n",
        "\"\"\"\n",
        "def leer_calif(calif1, calif2, calif3):\n",
        "\tcalif1 = float(input(\"/n Ingrese la calificación 1= \"))\n",
        "\tcalif2 = float(input(\"/n Ingrese la calificación 2= \"))\n",
        "\tcalif3 = float(input(\"/n Ingrese la calificación 3= \"))\n",
        "\"\"\"\n",
        "\n",
        "\"\"\"\n",
        "#ALTERNATIVA 1\n",
        "def leer_(mensaje):\n",
        "\tvalor = float(input(mensaje))\n",
        "\tcalif2 = float(input(\"/n Ingrese la calificación 2= \"))\n",
        "\tcalif3 = float(input(\"/n Ingrese la calificación 3= \"))\n",
        "\treturn calif1, calif2, calif3\n",
        "\"\"\"\n",
        "\n",
        "#ALTENATIVA 2\n",
        "def leer_(mensaje):\n",
        "\tvalor = float(input(mensaje))\n",
        "\treturn valor\n",
        "#--------------PROCESO----------------------#\n",
        "\n",
        "def calcular(calif1, calif2, calif3):\n",
        "\treturn ((calif1 + calif2 + calif3)/3)\n",
        "\n",
        "#---------------SALIDA/ ESCRITURA-------------#\n",
        "def imprimir_(prom):\n",
        "\tif prom >= 70 and prom <= 100:\n",
        "\t\tprint (\"/n El alumno esta Aprobado con \", prom)\n",
        "\telif (prom >= 0) and (prom < 70):\n",
        "\t\tprint (\"/n El alumno esta Reprobado con \", prom)\n",
        "\telse:\n",
        "\t\tprint (\"/n ¡ERROR! en las calificaciones o el promedio\")\n",
        "\n",
        "\n",
        "#--------------------MAIN-------------------#\n",
        "calif1 = 0.0\n",
        "calif2 = 0.0\n",
        "calif3 = 0.0\n",
        "prom = 0.0\n",
        "\n",
        "print (\"/n\t*   *   * P R O M E D I O *  *  *\")\n",
        "\n",
        "#calif1, calif2, calif3 = leer_calif(calif1 + calif2 + calif3)\n",
        "\"\"\"\n",
        "#Alternativa 1\n",
        "calif1 = float(leer(\"/n ingrese la calificacion 1 = \")\n",
        "calif2 = float(leer(\"/n ingrese la calificacion 2 = \")\n",
        "calif3 = float(leer(\"/n ingrese la calificacion 3 = \")\n",
        "\"\"\"\n",
        "\n",
        "#Alternativa 2\n",
        "calif1 = float(leer_(\"/n ingrese la calificacion 1 = \"))\n",
        "calif2 = float(leer_(\"/n ingrese la calificacion 2 = \"))\n",
        "calif3 = float(leer_(\"/n ingrese la calificacion 3 = \"))\n",
        "\n",
        "prom = calcular(calif1, calif2, calif3)\n",
        "\n",
        "imprimir_(prom)\n",
        "\n",
        "print (\"Gracias por utilizar nuestro programa ...\")"
      ],
      "metadata": {
        "id": "fgptf2J9IgOf"
      },
      "execution_count": null,
      "outputs": []
    }
  ]
}