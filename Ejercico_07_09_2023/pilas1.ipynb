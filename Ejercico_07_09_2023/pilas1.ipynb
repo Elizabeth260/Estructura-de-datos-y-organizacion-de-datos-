{
  "nbformat": 4,
  "nbformat_minor": 0,
  "metadata": {
    "colab": {
      "provenance": [],
      "authorship_tag": "ABX9TyPdKu48tGn+Oz8xb9wad9HE",
      "include_colab_link": true
    },
    "kernelspec": {
      "name": "python3",
      "display_name": "Python 3"
    },
    "language_info": {
      "name": "python"
    }
  },
  "cells": [
    {
      "cell_type": "markdown",
      "metadata": {
        "id": "view-in-github",
        "colab_type": "text"
      },
      "source": [
        "<a href=\"https://colab.research.google.com/github/Elizabeth260/Estructura-de-datos-y-organizacion-de-datos-/blob/main/Ejercico_07_09_2023/pilas1.ipynb\" target=\"_parent\"><img src=\"https://colab.research.google.com/assets/colab-badge.svg\" alt=\"Open In Colab\"/></a>"
      ]
    },
    {
      "cell_type": "code",
      "execution_count": 3,
      "metadata": {
        "colab": {
          "base_uri": "https://localhost:8080/"
        },
        "id": "-POzJMmaNRmK",
        "outputId": "22b43bee-4a70-47b4-cb6e-b9e41f419e85"
      },
      "outputs": [
        {
          "output_type": "stream",
          "name": "stdout",
          "text": [
            "1\n"
          ]
        }
      ],
      "source": [
        "from os import pipe2\n",
        "class Pila:\n",
        "    def __init__(self):\n",
        "        \"\"\"crear una pila vacia\"\"\"\n",
        "        #la pila vacia se representa con una lista vacia\n",
        "        self.items = []\n",
        "\n",
        "    def apilar (self,x):\n",
        "        \"\"\"Apilar es agregar al final de la lista\"\"\"\n",
        "        self.items.append(x)\n",
        "\n",
        "    def desapilar (self):\n",
        "        try:\n",
        "            return self.items.pop()\n",
        "        except IndexError:\n",
        "             raise ValueError(\"La pila está vacía\")\n",
        "\n",
        "    def es_vacia(self):\n",
        "        \"\"\"Devuelve True si la lsita esta vacua, false si no.\"\"\"\n",
        "        return self.items == []\n",
        "\n",
        "    def imprimir_pila(self):\n",
        "        for item in self.items:\n",
        "             print(item)\n",
        "\n",
        "p = Pila()\n",
        "p.es_vacia()\n",
        "p.apilar(1)\n",
        "p.es_vacia()\n",
        "p.imprimir_pila()\n"
      ]
    }
  ]
}