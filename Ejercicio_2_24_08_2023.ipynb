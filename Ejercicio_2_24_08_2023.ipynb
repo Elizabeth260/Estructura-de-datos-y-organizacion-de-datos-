{
  "nbformat": 4,
  "nbformat_minor": 0,
  "metadata": {
    "colab": {
      "provenance": [],
      "authorship_tag": "ABX9TyNFIjySMsf5fVwNmno0FiAO",
      "include_colab_link": true
    },
    "kernelspec": {
      "name": "python3",
      "display_name": "Python 3"
    },
    "language_info": {
      "name": "python"
    }
  },
  "cells": [
    {
      "cell_type": "markdown",
      "metadata": {
        "id": "view-in-github",
        "colab_type": "text"
      },
      "source": [
        "<a href=\"https://colab.research.google.com/github/Elizabeth260/Estructura-de-datos-y-organizacion-de-datos-/blob/main/Ejercicio_2_24_08_2023.ipynb\" target=\"_parent\"><img src=\"https://colab.research.google.com/assets/colab-badge.svg\" alt=\"Open In Colab\"/></a>"
      ]
    },
    {
      "cell_type": "code",
      "execution_count": 1,
      "metadata": {
        "colab": {
          "base_uri": "https://localhost:8080/"
        },
        "id": "n19L7ptZBkU3",
        "outputId": "40a6d41d-855e-4899-e4e2-e30c80e455c2"
      },
      "outputs": [
        {
          "output_type": "stream",
          "name": "stdout",
          "text": [
            "[2.5, 3.6, 4, 5]\n",
            "[2.5, 3.6, 4, 5, 6]\n",
            "[2.5, 3.6, 4, 5, 6, 'Gallos']\n",
            "[2.5, 3.6, 4, 5, 6, 'Gallos', ['Cornflakes', 100]]\n",
            "[2.5, 3.6, 4, 5, 6, 'Gallos', ['Cornflakes', 100, ['Papel de baño', 'Leche']]]\n",
            "6 -> 1\n",
            "5 -> 1\n",
            "2.5 -> 1\n",
            "[2.1, 2.5, 3.6]\n",
            "[2.1, 2.5, 3.6, 4]\n",
            "[2.1, 2.5, 3.6, 4, 5, 6, 7, 8]\n"
          ]
        }
      ],
      "source": [
        "#METODO APPEND\n",
        "versiones_plone=[2.5,3.6,4,5]\n",
        "print(versiones_plone)\n",
        "versiones_plone.append(6)\n",
        "print(versiones_plone)\n",
        "versiones_plone.append(\"Gallos\")\n",
        "print(versiones_plone)\n",
        "A=[\"Cornflakes\",100]\n",
        "versiones_plone.append(A)\n",
        "print(versiones_plone)\n",
        "B=[\"Papel de baño\",\"Leche\"]\n",
        "A.append(B)\n",
        "print(versiones_plone)\n",
        "#Metodo count\n",
        "array2=[2.1,2.5,3.6,4,5,6]\n",
        "print(\"6 ->\",array2.count(6))\n",
        "print(\"5 ->\",array2.count(5))\n",
        "print(\"2.5 ->\",array2.count(2.5))\n",
        "#METODO EXTEND ESTE METODO EXTIENDE UN ALISTA AGREGANDO UN ITERABLE AL FINAL\n",
        "array3=[2.1,2.5,3.6]\n",
        "print(array3)\n",
        "array3.extend([4])\n",
        "print(array3)\n",
        "array3.extend(range(5,9))\n",
        "print(array3)"
      ]
    }
  ]
}