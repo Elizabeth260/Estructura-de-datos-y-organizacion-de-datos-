{
  "nbformat": 4,
  "nbformat_minor": 0,
  "metadata": {
    "colab": {
      "provenance": [],
      "authorship_tag": "ABX9TyMcwRFZLUsCH6BXiyqlIkPX",
      "include_colab_link": true
    },
    "kernelspec": {
      "name": "python3",
      "display_name": "Python 3"
    },
    "language_info": {
      "name": "python"
    }
  },
  "cells": [
    {
      "cell_type": "markdown",
      "metadata": {
        "id": "view-in-github",
        "colab_type": "text"
      },
      "source": [
        "<a href=\"https://colab.research.google.com/github/Elizabeth260/Estructura-de-datos-y-organizacion-de-datos-/blob/main/Ejercicio_24_08_2023/.ipynb\" target=\"_parent\"><img src=\"https://colab.research.google.com/assets/colab-badge.svg\" alt=\"Open In Colab\"/></a>"
      ]
    },
    {
      "cell_type": "code",
      "source": [
        "array1=[\"cocos\",1,\"melones\"]\n",
        "factura=[\"pan\",\"huevos\",100,1234]\n",
        "print(factura[1])\n",
        "print(factura[-1])\n",
        "print(-len(factura))\n",
        "print(len(factura)-1)\n",
        "factura[1]=input(\"Ingresa el nuevo valor\")\n",
        "print(factura)\n",
        "factura[2]=array1\n",
        "print(factura)\n",
        "print(len(factura))"
      ],
      "metadata": {
        "colab": {
          "base_uri": "https://localhost:8080/"
        },
        "id": "yHNrCwizA5br",
        "outputId": "1407508a-1863-4f22-d774-4883b01a9e42"
      },
      "execution_count": 4,
      "outputs": [
        {
          "output_type": "stream",
          "name": "stdout",
          "text": [
            "huevos\n",
            "1234\n",
            "-4\n",
            "3\n",
            "Ingresa el nuevo valor2\n",
            "['pan', '2', 100, 1234]\n",
            "['pan', '2', ['cocos', 1, 'melones'], 1234]\n",
            "4\n"
          ]
        }
      ]
    }
  ]
}