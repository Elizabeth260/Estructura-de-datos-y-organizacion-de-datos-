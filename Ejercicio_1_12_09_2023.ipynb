{
  "nbformat": 4,
  "nbformat_minor": 0,
  "metadata": {
    "colab": {
      "provenance": [],
      "authorship_tag": "ABX9TyOPe1gajwsTvASSlLgWhsv+",
      "include_colab_link": true
    },
    "kernelspec": {
      "name": "python3",
      "display_name": "Python 3"
    },
    "language_info": {
      "name": "python"
    }
  },
  "cells": [
    {
      "cell_type": "markdown",
      "metadata": {
        "id": "view-in-github",
        "colab_type": "text"
      },
      "source": [
        "<a href=\"https://colab.research.google.com/github/Elizabeth260/Estructura-de-datos-y-organizacion-de-datos-/blob/main/Ejercicio_1_12_09_2023.ipynb\" target=\"_parent\"><img src=\"https://colab.research.google.com/assets/colab-badge.svg\" alt=\"Open In Colab\"/></a>"
      ]
    },
    {
      "cell_type": "code",
      "execution_count": 19,
      "metadata": {
        "colab": {
          "base_uri": "https://localhost:8080/",
          "height": 349
        },
        "id": "pM7FuvdKCDzT",
        "outputId": "f3ddff2a-7360-4994-d0b1-de3619b452a4"
      },
      "outputs": [
        {
          "output_type": "stream",
          "name": "stdout",
          "text": [
            "jas=>Hola=>hshs=>"
          ]
        },
        {
          "output_type": "error",
          "ename": "AttributeError",
          "evalue": "ignored",
          "traceback": [
            "\u001b[0;31m---------------------------------------------------------------------------\u001b[0m",
            "\u001b[0;31mAttributeError\u001b[0m                            Traceback (most recent call last)",
            "\u001b[0;32m<ipython-input-19-ce10293f1419>\u001b[0m in \u001b[0;36m<cell line: 65>\u001b[0;34m()\u001b[0m\n\u001b[1;32m     63\u001b[0m \u001b[0ms\u001b[0m\u001b[0;34m.\u001b[0m\u001b[0madd_at_front\u001b[0m\u001b[0;34m(\u001b[0m\u001b[0;34m\"jas\"\u001b[0m\u001b[0;34m)\u001b[0m \u001b[0;31m#agregamos otro elemento al frente del nodo\u001b[0m\u001b[0;34m\u001b[0m\u001b[0;34m\u001b[0m\u001b[0m\n\u001b[1;32m     64\u001b[0m \u001b[0;34m\u001b[0m\u001b[0m\n\u001b[0;32m---> 65\u001b[0;31m \u001b[0ms\u001b[0m\u001b[0;34m.\u001b[0m\u001b[0mprint_list\u001b[0m\u001b[0;34m(\u001b[0m\u001b[0;34m)\u001b[0m \u001b[0;31m#Imprimir la lista de nodos\u001b[0m\u001b[0;34m\u001b[0m\u001b[0;34m\u001b[0m\u001b[0m\n\u001b[0m",
            "\u001b[0;32m<ipython-input-19-ce10293f1419>\u001b[0m in \u001b[0;36mprint_list\u001b[0;34m(self)\u001b[0m\n\u001b[1;32m     55\u001b[0m     \u001b[0mnode\u001b[0m \u001b[0;34m=\u001b[0m \u001b[0mself\u001b[0m\u001b[0;34m.\u001b[0m\u001b[0mhead\u001b[0m\u001b[0;34m\u001b[0m\u001b[0;34m\u001b[0m\u001b[0m\n\u001b[1;32m     56\u001b[0m     \u001b[0;32mwhile\u001b[0m \u001b[0mnode\u001b[0m \u001b[0;34m!=\u001b[0m \u001b[0;32mNone\u001b[0m\u001b[0;34m:\u001b[0m\u001b[0;34m\u001b[0m\u001b[0;34m\u001b[0m\u001b[0m\n\u001b[0;32m---> 57\u001b[0;31m       \u001b[0mprint\u001b[0m\u001b[0;34m(\u001b[0m\u001b[0mnode\u001b[0m\u001b[0;34m.\u001b[0m\u001b[0mdata\u001b[0m\u001b[0;34m,\u001b[0m \u001b[0mend\u001b[0m \u001b[0;34m=\u001b[0m \u001b[0;34m\"=>\"\u001b[0m \u001b[0;34m)\u001b[0m\u001b[0;34m\u001b[0m\u001b[0;34m\u001b[0m\u001b[0m\n\u001b[0m\u001b[1;32m     58\u001b[0m       \u001b[0mnode\u001b[0m \u001b[0;34m=\u001b[0m \u001b[0mnode\u001b[0m\u001b[0;34m.\u001b[0m\u001b[0mnext\u001b[0m\u001b[0;34m\u001b[0m\u001b[0;34m\u001b[0m\u001b[0m\n\u001b[1;32m     59\u001b[0m \u001b[0;34m\u001b[0m\u001b[0m\n",
            "\u001b[0;31mAttributeError\u001b[0m: 'str' object has no attribute 'data'"
          ]
        }
      ],
      "source": [
        "class node:\n",
        "  def __init__(self,data = None, next = None):\n",
        "    self.data = data\n",
        "    self.next = next\n",
        "#Creamos la clase linked_list\n",
        "class linked_list:\n",
        "  def __init__(self):\n",
        "    self.head = None\n",
        "\n",
        "  #Metodo para agregar elementos en el frente de la linked list\n",
        "  def add_at_front(self, data):\n",
        "    self.head = node(data=data, next=self.head)\n",
        "\n",
        "  #Metodo para verificar si la estructura de datos esta vacia\n",
        "  def is_empty(self):\n",
        "    return self.head == None\n",
        "\n",
        "  #Metodo para agregar elementos al final de la linked list\n",
        "  def add_at_end(self, data):\n",
        "    if not self.head:\n",
        "      self.head = node(data,data)\n",
        "      return\n",
        "    curr = self.head\n",
        "    while curr.next:\n",
        "      curr = curr.next\n",
        "    curr.next = node(data,data)\n",
        "\n",
        "  #Metodo para eleminar nodos\n",
        "  def delete_node(self, key):\n",
        "    curr = self.head\n",
        "    prev = None\n",
        "    while (curr and curr.data != key):\n",
        "      prev = curr\n",
        "      curr = curr.next\n",
        "    if prev is None:\n",
        "      self.head = curr.next\n",
        "    elif curr:\n",
        "      prev.next = curr.next\n",
        "      curr.next = None\n",
        "\n",
        "  #Metodo para obtener el ultimo nodo\n",
        "  def get_last_node(self):\n",
        "    temp = self.head\n",
        "    while(temp.next is not None):\n",
        "      temp = temp.next\n",
        "    return temp.data\n",
        "\n",
        "  #Metodo para imprimir la lista de nodos\n",
        "  def get_last_node(self):\n",
        "    temp = self.head\n",
        "    return temp.data\n",
        "\n",
        "  #Metodo para imprimir la lista de nodos\n",
        "  def print_list(self):\n",
        "    node = self.head\n",
        "    while node != None:\n",
        "      print(node.data, end = \"=>\" )\n",
        "      node = node.next\n",
        "\n",
        "s = linked_list() #inserta de la clase\n",
        "s.add_at_front(\"Hola\") #agregamos un elemento al frente del nodo\n",
        "s.add_at_end(\"hshs\") #agregamos un elemento al final del nodo\n",
        "s.add_at_front(\"jas\") #agregamos otro elemento al frente del nodo\n",
        "\n",
        "s.print_list() #Imprimir la lista de nodos"
      ]
    }
  ]
}