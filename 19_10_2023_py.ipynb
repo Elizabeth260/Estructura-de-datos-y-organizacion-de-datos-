{
  "nbformat": 4,
  "nbformat_minor": 0,
  "metadata": {
    "colab": {
      "provenance": [],
      "authorship_tag": "ABX9TyNpG6MprnJkasYbr04RJC9r",
      "include_colab_link": true
    },
    "kernelspec": {
      "name": "python3",
      "display_name": "Python 3"
    },
    "language_info": {
      "name": "python"
    }
  },
  "cells": [
    {
      "cell_type": "markdown",
      "metadata": {
        "id": "view-in-github",
        "colab_type": "text"
      },
      "source": [
        "<a href=\"https://colab.research.google.com/github/Elizabeth260/Estructura-de-datos-y-organizacion-de-datos-/blob/main/19_10_2023_py.ipynb\" target=\"_parent\"><img src=\"https://colab.research.google.com/assets/colab-badge.svg\" alt=\"Open In Colab\"/></a>"
      ]
    },
    {
      "cell_type": "code",
      "execution_count": null,
      "metadata": {
        "id": "AKmc0YF9r0KX"
      },
      "outputs": [],
      "source": [
        "class ArbolBinarioBusqueda:\n",
        "  def __init__(self):\n",
        "    self.raiz = None\n",
        "    self.tamano = 0\n",
        "\n",
        "  def longitud(self):\n",
        "    return self.tamano\n",
        "\n",
        "  def __len__(self):\n",
        "    return self.tamano\n",
        "\n",
        "  def __iter__(self):\n",
        "    return self.raiz.__iter__()"
      ]
    },
    {
      "cell_type": "code",
      "source": [
        "class NodoArbol:\n",
        "  def __init__(self,clave,valor,izquierdo= None, derecho=None,padre=None):\n",
        "    self.clave = clave\n",
        "    self.cargaUtil = valor\n",
        "    self.hijoIzquierdo = izquierdo\n",
        "    self.hijoDerecho = derecho\n",
        "    self.padre = padre\n",
        "\n",
        "  def tieneHijoIzquierdo(self):\n",
        "    return self.hijoIzquierdo\n",
        "\n",
        "  def tieneHijoDerecho(self):\n",
        "    return self.hijoDerecho\n",
        "\n",
        "  def esHijoIzquierdo(self):\n",
        "    return self.padre and self.padre.hijoIzquierdo == self\n",
        "\n",
        "  def esHijoDerecho(self):\n",
        "    return self.padre and self.padre.hijoDerecho == self\n",
        "\n",
        "  def esRaiz(self):\n",
        "    return not self.padre\n",
        "\n",
        "  def esHoja(self):\n",
        "    return not (self.hijoDerecho or self.hijoIzquierdo)\n",
        "\n",
        "  def tieneAlgunHijo(self):\n",
        "    return self.hijoDerecho or self.hijoIzquierdo\n",
        "\n",
        "  def tieneAmbosHijos(self):\n",
        "    return self.hijoDerecho and self.hijoIzquierdo\n",
        "\n",
        "  def reemplazarDatoDeNodo(self,clave,valor,hizq,hder):\n",
        "    self.clave = clave\n",
        "    self.cargaUtil = valor\n",
        "    self.hijoIzquierdo = hizq\n",
        "    self.hijoDerecho = hder\n",
        "    if self.tieneHijoIzquierdo():\n",
        "      self.hijoIzquierdo.padre = self\n",
        "    if self.tieneHijoDerecho():\n",
        "      self.hijoDerecho.padre = self\n",
        "\n",
        "  def agregar(self,calve,valor):\n",
        "    if self.raiz:\n",
        "      self._agregar(clave,valor,self.raiz):\n",
        "    else:\n",
        "      self.raiz = NodoArbol(clave,valor)\n",
        "    self.tamano = self.tamano + 1\n",
        "\n",
        "  def _agregar(self,clave, valor):\n",
        "    if clave < nodoActual.clave:\n",
        "      if nodoActual.tieneHijoIzquierdo():\n",
        "        self._agregar(clave,valor,nodoActual,padre=nodoActual)\n",
        "      else:\n",
        "        nodoActual.hijoIzquierdo = NodoArbol(clave,valor,nodoActual)\n",
        "  else:\n",
        "    if nodoActual.tieneHijoDerecho():\n",
        "          self._agregar(clave,valor,nodoActual.hijoDerecho)\n",
        "    else:\n",
        "      nodoActual.hijoDerecho = NodoArbol(clave,valor,padre=nodoActual)"
      ],
      "metadata": {
        "colab": {
          "base_uri": "https://localhost:8080/",
          "height": 141
        },
        "id": "rjoiBKP3sfaW",
        "outputId": "8ab64a4a-a83e-4e9d-943c-2f2e36cf1946"
      },
      "execution_count": null,
      "outputs": [
        {
          "output_type": "error",
          "ename": "SyntaxError",
          "evalue": "ignored",
          "traceback": [
            "\u001b[0;36m  File \u001b[0;32m\"<ipython-input-7-e67433a05747>\"\u001b[0;36m, line \u001b[0;32m45\u001b[0m\n\u001b[0;31m    self._agregar(clave,valor,self.raiz):\u001b[0m\n\u001b[0m                                        ^\u001b[0m\n\u001b[0;31mSyntaxError\u001b[0m\u001b[0;31m:\u001b[0m invalid syntax\n"
          ]
        }
      ]
    },
    {
      "cell_type": "code",
      "source": [],
      "metadata": {
        "id": "t6xVdcAyu9dR"
      },
      "execution_count": null,
      "outputs": []
    }
  ]
}